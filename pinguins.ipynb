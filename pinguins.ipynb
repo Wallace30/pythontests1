{
 "cells": [
  {
   "cell_type": "code",
   "execution_count": 1,
   "metadata": {},
   "outputs": [
    {
     "name": "stderr",
     "output_type": "stream",
     "text": [
      "C:\\Users\\walla\\AppData\\Local\\Temp\\ipykernel_18096\\775262784.py:9: SettingWithCopyWarning: \n",
      "A value is trying to be set on a copy of a slice from a DataFrame.\n",
      "Try using .loc[row_indexer,col_indexer] = value instead\n",
      "\n",
      "See the caveats in the documentation: https://pandas.pydata.org/pandas-docs/stable/user_guide/indexing.html#returning-a-view-versus-a-copy\n",
      "  tabela_2[\"island\"] = codificador.fit_transform(tabela_2[\"island\"])\n",
      "C:\\Users\\walla\\AppData\\Local\\Temp\\ipykernel_18096\\775262784.py:10: SettingWithCopyWarning: \n",
      "A value is trying to be set on a copy of a slice from a DataFrame.\n",
      "Try using .loc[row_indexer,col_indexer] = value instead\n",
      "\n",
      "See the caveats in the documentation: https://pandas.pydata.org/pandas-docs/stable/user_guide/indexing.html#returning-a-view-versus-a-copy\n",
      "  tabela_2[\"sex\"] = codificador.fit_transform(tabela_2[\"sex\"])\n"
     ]
    },
    {
     "name": "stdout",
     "output_type": "stream",
     "text": [
      "1.0\n",
      "0.8208955223880597\n"
     ]
    }
   ],
   "source": [
    "\n",
    "import pandas as pd\n",
    "#Importação do arquivo txt\n",
    "tabela = pd.read_csv(\"pinguim.txt\")\n",
    "# Retirada dos valores inexistentes ou nulos\n",
    "tabela_2 = tabela.dropna()\n",
    "from sklearn.preprocessing import LabelEncoder\n",
    "# Vamos utilizar para transformar alguns dados de texto para int, pois e necessário para fazer a análise\n",
    "codificador = LabelEncoder()\n",
    "tabela_2[\"island\"] = codificador.fit_transform(tabela_2[\"island\"])\n",
    "tabela_2[\"sex\"] = codificador.fit_transform(tabela_2[\"sex\"])\n",
    "# A variavel y vai conter as respostas que estamos esperando\n",
    "y = tabela_2[\"species\"]\n",
    "# A variavel x vai conter tudo menos a resposta que estamos procurando\n",
    "x = tabela_2.drop(columns=[\"species\"])\n",
    "from sklearn.model_selection import train_test_split\n",
    "# Criamos as variaveis de teste e de treino\n",
    "x_treino, x_teste, y_treino, y_teste = train_test_split(x, y, test_size=0.2, random_state=42)\n",
    "# Para esse teste, vamos utilizar dois tipos de teste para construir nossa IA, que é a Arvore de Decisão e os\n",
    "# Vizinhos próximos(KNN)\n",
    "from sklearn.ensemble import RandomForestClassifier\n",
    "from sklearn.neighbors import KNeighborsClassifier\n",
    "modelo_arvore = RandomForestClassifier()\n",
    "modelo_knn = KNeighborsClassifier()\n",
    "# Realiza o treino\n",
    "modelo_arvore.fit(x_treino, y_treino)\n",
    "modelo_knn.fit(x_treino,y_treino)\n",
    "from sklearn.metrics import accuracy_score\n",
    "# Agora vamos realizar os treinos, e assim, para descobrir se é eficaz nosso método\n",
    "previsao_arvore = modelo_arvore.predict(x_teste)\n",
    "previsao_KN = modelo_knn.predict(x_teste)\n",
    "# Após realizar os testes junto com os treinos acima, vamos medir a acurácia que vai nos mostrar a quantidade de acerto\n",
    "# dos métodos\n",
    "print(accuracy_score(y_teste,previsao_arvore))\n",
    "print(accuracy_score(y_teste,previsao_KN))\n",
    "\n",
    "\n"
   ]
  }
 ],
 "metadata": {
  "kernelspec": {
   "display_name": "Python 3",
   "language": "python",
   "name": "python3"
  },
  "language_info": {
   "codemirror_mode": {
    "name": "ipython",
    "version": 3
   },
   "file_extension": ".py",
   "mimetype": "text/x-python",
   "name": "python",
   "nbconvert_exporter": "python",
   "pygments_lexer": "ipython3",
   "version": "3.10.0"
  }
 },
 "nbformat": 4,
 "nbformat_minor": 2
}
